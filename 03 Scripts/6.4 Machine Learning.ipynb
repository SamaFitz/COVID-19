{
 "cells": [
  {
   "cell_type": "markdown",
   "id": "f1becf5e",
   "metadata": {},
   "source": [
    "# 6.4.2 Import the libraries you need into a new notebook, including any necessary modules from scikit-learn."
   ]
  },
  {
   "cell_type": "code",
   "execution_count": 1,
   "id": "fadbfaa7",
   "metadata": {},
   "outputs": [],
   "source": [
    "import pandas as pd\n",
    "import numpy as np\n",
    "import seaborn as sns\n",
    "import matplotlib\n",
    "import matplotlib.pyplot as plt\n",
    "import os\n",
    "import sklearn\n",
    "from sklearn.model_selection import train_test_split \n",
    "from sklearn.linear_model import LinearRegression\n",
    "from sklearn.metrics import mean_squared_error, r2_score"
   ]
  },
  {
   "cell_type": "code",
   "execution_count": 16,
   "id": "88cdbeef",
   "metadata": {},
   "outputs": [],
   "source": [
    "# Ensures that the graphs are displayed within the notebook without the need to \"call\" them specifically.\n",
    "\n",
    "%matplotlib inline"
   ]
  },
  {
   "cell_type": "code",
   "execution_count": null,
   "id": "7b56b8e4",
   "metadata": {},
   "outputs": [],
   "source": [
    "# 6.4.1 Import COVID dataframe for people aged 65+"
   ]
  },
  {
   "cell_type": "code",
   "execution_count": 17,
   "id": "d0422286",
   "metadata": {},
   "outputs": [],
   "source": [
    "covid = pd.read_csv(r'/Users/samantha/Documents/COVID Analysis/02 Data/Prepared Data/5-15_c19_totals_states_2020-2023_65+.csv', index_col = False) "
   ]
  },
  {
   "cell_type": "markdown",
   "id": "64136efa",
   "metadata": {},
   "source": [
    "# 6.4.3 Clean your data so that it’s ready for analysis."
   ]
  },
  {
   "cell_type": "code",
   "execution_count": 18,
   "id": "1cc8113d",
   "metadata": {},
   "outputs": [
    {
     "data": {
      "text/plain": [
       "Index(['group', 'year', 'month', 'hhs_region', 'state', 'place_of_death',\n",
       "       'age_group', 'deaths_c19', 'deaths_flu', 'deaths_pna',\n",
       "       'deaths_c19_and_pna', 'deaths_c19_pna_or_flu', 'deaths_total'],\n",
       "      dtype='object')"
      ]
     },
     "execution_count": 18,
     "metadata": {},
     "output_type": "execute_result"
    }
   ],
   "source": [
    "covid.columns"
   ]
  },
  {
   "cell_type": "code",
   "execution_count": 19,
   "id": "2980dd6a",
   "metadata": {},
   "outputs": [
    {
     "data": {
      "text/html": [
       "<div>\n",
       "<style scoped>\n",
       "    .dataframe tbody tr th:only-of-type {\n",
       "        vertical-align: middle;\n",
       "    }\n",
       "\n",
       "    .dataframe tbody tr th {\n",
       "        vertical-align: top;\n",
       "    }\n",
       "\n",
       "    .dataframe thead th {\n",
       "        text-align: right;\n",
       "    }\n",
       "</style>\n",
       "<table border=\"1\" class=\"dataframe\">\n",
       "  <thead>\n",
       "    <tr style=\"text-align: right;\">\n",
       "      <th></th>\n",
       "      <th>group</th>\n",
       "      <th>year</th>\n",
       "      <th>month</th>\n",
       "      <th>hhs_region</th>\n",
       "      <th>state</th>\n",
       "      <th>place_of_death</th>\n",
       "      <th>age_group</th>\n",
       "      <th>deaths_c19</th>\n",
       "      <th>deaths_flu</th>\n",
       "      <th>deaths_pna</th>\n",
       "      <th>deaths_c19_and_pna</th>\n",
       "      <th>deaths_c19_pna_or_flu</th>\n",
       "      <th>deaths_total</th>\n",
       "    </tr>\n",
       "  </thead>\n",
       "  <tbody>\n",
       "    <tr>\n",
       "      <th>0</th>\n",
       "      <td>By Month</td>\n",
       "      <td>2020</td>\n",
       "      <td>1</td>\n",
       "      <td>4</td>\n",
       "      <td>Alabama</td>\n",
       "      <td>Total - All Places of Death</td>\n",
       "      <td>65-74 years</td>\n",
       "      <td>0</td>\n",
       "      <td>11</td>\n",
       "      <td>64</td>\n",
       "      <td>0</td>\n",
       "      <td>75</td>\n",
       "      <td>1034</td>\n",
       "    </tr>\n",
       "    <tr>\n",
       "      <th>1</th>\n",
       "      <td>By Month</td>\n",
       "      <td>2020</td>\n",
       "      <td>1</td>\n",
       "      <td>4</td>\n",
       "      <td>Alabama</td>\n",
       "      <td>Total - All Places of Death</td>\n",
       "      <td>75-84 years</td>\n",
       "      <td>0</td>\n",
       "      <td>5</td>\n",
       "      <td>86</td>\n",
       "      <td>0</td>\n",
       "      <td>91</td>\n",
       "      <td>1178</td>\n",
       "    </tr>\n",
       "    <tr>\n",
       "      <th>2</th>\n",
       "      <td>By Month</td>\n",
       "      <td>2020</td>\n",
       "      <td>1</td>\n",
       "      <td>4</td>\n",
       "      <td>Alabama</td>\n",
       "      <td>Total - All Places of Death</td>\n",
       "      <td>85 years and over</td>\n",
       "      <td>0</td>\n",
       "      <td>5</td>\n",
       "      <td>64</td>\n",
       "      <td>0</td>\n",
       "      <td>65</td>\n",
       "      <td>1177</td>\n",
       "    </tr>\n",
       "    <tr>\n",
       "      <th>3</th>\n",
       "      <td>By Month</td>\n",
       "      <td>2020</td>\n",
       "      <td>2</td>\n",
       "      <td>4</td>\n",
       "      <td>Alabama</td>\n",
       "      <td>Total - All Places of Death</td>\n",
       "      <td>65-74 years</td>\n",
       "      <td>0</td>\n",
       "      <td>12</td>\n",
       "      <td>60</td>\n",
       "      <td>0</td>\n",
       "      <td>72</td>\n",
       "      <td>968</td>\n",
       "    </tr>\n",
       "    <tr>\n",
       "      <th>4</th>\n",
       "      <td>By Month</td>\n",
       "      <td>2020</td>\n",
       "      <td>2</td>\n",
       "      <td>4</td>\n",
       "      <td>Alabama</td>\n",
       "      <td>Total - All Places of Death</td>\n",
       "      <td>75-84 years</td>\n",
       "      <td>0</td>\n",
       "      <td>5</td>\n",
       "      <td>76</td>\n",
       "      <td>0</td>\n",
       "      <td>79</td>\n",
       "      <td>1159</td>\n",
       "    </tr>\n",
       "    <tr>\n",
       "      <th>5</th>\n",
       "      <td>By Month</td>\n",
       "      <td>2020</td>\n",
       "      <td>2</td>\n",
       "      <td>4</td>\n",
       "      <td>Alabama</td>\n",
       "      <td>Total - All Places of Death</td>\n",
       "      <td>85 years and over</td>\n",
       "      <td>5</td>\n",
       "      <td>5</td>\n",
       "      <td>61</td>\n",
       "      <td>0</td>\n",
       "      <td>63</td>\n",
       "      <td>1114</td>\n",
       "    </tr>\n",
       "    <tr>\n",
       "      <th>6</th>\n",
       "      <td>By Month</td>\n",
       "      <td>2020</td>\n",
       "      <td>3</td>\n",
       "      <td>4</td>\n",
       "      <td>Alabama</td>\n",
       "      <td>Total - All Places of Death</td>\n",
       "      <td>65-74 years</td>\n",
       "      <td>14</td>\n",
       "      <td>5</td>\n",
       "      <td>62</td>\n",
       "      <td>5</td>\n",
       "      <td>81</td>\n",
       "      <td>1051</td>\n",
       "    </tr>\n",
       "    <tr>\n",
       "      <th>7</th>\n",
       "      <td>By Month</td>\n",
       "      <td>2020</td>\n",
       "      <td>3</td>\n",
       "      <td>4</td>\n",
       "      <td>Alabama</td>\n",
       "      <td>Total - All Places of Death</td>\n",
       "      <td>75-84 years</td>\n",
       "      <td>5</td>\n",
       "      <td>5</td>\n",
       "      <td>87</td>\n",
       "      <td>5</td>\n",
       "      <td>98</td>\n",
       "      <td>1165</td>\n",
       "    </tr>\n",
       "    <tr>\n",
       "      <th>8</th>\n",
       "      <td>By Month</td>\n",
       "      <td>2020</td>\n",
       "      <td>3</td>\n",
       "      <td>4</td>\n",
       "      <td>Alabama</td>\n",
       "      <td>Total - All Places of Death</td>\n",
       "      <td>85 years and over</td>\n",
       "      <td>10</td>\n",
       "      <td>5</td>\n",
       "      <td>58</td>\n",
       "      <td>5</td>\n",
       "      <td>70</td>\n",
       "      <td>1151</td>\n",
       "    </tr>\n",
       "    <tr>\n",
       "      <th>9</th>\n",
       "      <td>By Month</td>\n",
       "      <td>2020</td>\n",
       "      <td>4</td>\n",
       "      <td>4</td>\n",
       "      <td>Alabama</td>\n",
       "      <td>Total - All Places of Death</td>\n",
       "      <td>65-74 years</td>\n",
       "      <td>87</td>\n",
       "      <td>5</td>\n",
       "      <td>81</td>\n",
       "      <td>29</td>\n",
       "      <td>144</td>\n",
       "      <td>1061</td>\n",
       "    </tr>\n",
       "    <tr>\n",
       "      <th>10</th>\n",
       "      <td>By Month</td>\n",
       "      <td>2020</td>\n",
       "      <td>4</td>\n",
       "      <td>4</td>\n",
       "      <td>Alabama</td>\n",
       "      <td>Total - All Places of Death</td>\n",
       "      <td>75-84 years</td>\n",
       "      <td>92</td>\n",
       "      <td>5</td>\n",
       "      <td>113</td>\n",
       "      <td>31</td>\n",
       "      <td>175</td>\n",
       "      <td>1224</td>\n",
       "    </tr>\n",
       "    <tr>\n",
       "      <th>11</th>\n",
       "      <td>By Month</td>\n",
       "      <td>2020</td>\n",
       "      <td>4</td>\n",
       "      <td>4</td>\n",
       "      <td>Alabama</td>\n",
       "      <td>Total - All Places of Death</td>\n",
       "      <td>85 years and over</td>\n",
       "      <td>80</td>\n",
       "      <td>0</td>\n",
       "      <td>83</td>\n",
       "      <td>21</td>\n",
       "      <td>142</td>\n",
       "      <td>1171</td>\n",
       "    </tr>\n",
       "    <tr>\n",
       "      <th>12</th>\n",
       "      <td>By Month</td>\n",
       "      <td>2020</td>\n",
       "      <td>5</td>\n",
       "      <td>4</td>\n",
       "      <td>Alabama</td>\n",
       "      <td>Total - All Places of Death</td>\n",
       "      <td>65-74 years</td>\n",
       "      <td>100</td>\n",
       "      <td>5</td>\n",
       "      <td>99</td>\n",
       "      <td>30</td>\n",
       "      <td>169</td>\n",
       "      <td>1083</td>\n",
       "    </tr>\n",
       "    <tr>\n",
       "      <th>13</th>\n",
       "      <td>By Month</td>\n",
       "      <td>2020</td>\n",
       "      <td>5</td>\n",
       "      <td>4</td>\n",
       "      <td>Alabama</td>\n",
       "      <td>Total - All Places of Death</td>\n",
       "      <td>75-84 years</td>\n",
       "      <td>109</td>\n",
       "      <td>5</td>\n",
       "      <td>102</td>\n",
       "      <td>39</td>\n",
       "      <td>173</td>\n",
       "      <td>1243</td>\n",
       "    </tr>\n",
       "    <tr>\n",
       "      <th>14</th>\n",
       "      <td>By Month</td>\n",
       "      <td>2020</td>\n",
       "      <td>5</td>\n",
       "      <td>4</td>\n",
       "      <td>Alabama</td>\n",
       "      <td>Total - All Places of Death</td>\n",
       "      <td>85 years and over</td>\n",
       "      <td>129</td>\n",
       "      <td>5</td>\n",
       "      <td>98</td>\n",
       "      <td>41</td>\n",
       "      <td>187</td>\n",
       "      <td>1209</td>\n",
       "    </tr>\n",
       "    <tr>\n",
       "      <th>15</th>\n",
       "      <td>By Month</td>\n",
       "      <td>2020</td>\n",
       "      <td>6</td>\n",
       "      <td>4</td>\n",
       "      <td>Alabama</td>\n",
       "      <td>Total - All Places of Death</td>\n",
       "      <td>65-74 years</td>\n",
       "      <td>108</td>\n",
       "      <td>5</td>\n",
       "      <td>87</td>\n",
       "      <td>35</td>\n",
       "      <td>161</td>\n",
       "      <td>1040</td>\n",
       "    </tr>\n",
       "    <tr>\n",
       "      <th>16</th>\n",
       "      <td>By Month</td>\n",
       "      <td>2020</td>\n",
       "      <td>6</td>\n",
       "      <td>4</td>\n",
       "      <td>Alabama</td>\n",
       "      <td>Total - All Places of Death</td>\n",
       "      <td>75-84 years</td>\n",
       "      <td>105</td>\n",
       "      <td>0</td>\n",
       "      <td>101</td>\n",
       "      <td>34</td>\n",
       "      <td>172</td>\n",
       "      <td>1218</td>\n",
       "    </tr>\n",
       "    <tr>\n",
       "      <th>17</th>\n",
       "      <td>By Month</td>\n",
       "      <td>2020</td>\n",
       "      <td>6</td>\n",
       "      <td>4</td>\n",
       "      <td>Alabama</td>\n",
       "      <td>Total - All Places of Death</td>\n",
       "      <td>85 years and over</td>\n",
       "      <td>78</td>\n",
       "      <td>0</td>\n",
       "      <td>72</td>\n",
       "      <td>25</td>\n",
       "      <td>125</td>\n",
       "      <td>1133</td>\n",
       "    </tr>\n",
       "    <tr>\n",
       "      <th>18</th>\n",
       "      <td>By Month</td>\n",
       "      <td>2020</td>\n",
       "      <td>7</td>\n",
       "      <td>4</td>\n",
       "      <td>Alabama</td>\n",
       "      <td>Total - All Places of Death</td>\n",
       "      <td>65-74 years</td>\n",
       "      <td>211</td>\n",
       "      <td>0</td>\n",
       "      <td>140</td>\n",
       "      <td>73</td>\n",
       "      <td>278</td>\n",
       "      <td>1265</td>\n",
       "    </tr>\n",
       "    <tr>\n",
       "      <th>19</th>\n",
       "      <td>By Month</td>\n",
       "      <td>2020</td>\n",
       "      <td>7</td>\n",
       "      <td>4</td>\n",
       "      <td>Alabama</td>\n",
       "      <td>Total - All Places of Death</td>\n",
       "      <td>75-84 years</td>\n",
       "      <td>227</td>\n",
       "      <td>5</td>\n",
       "      <td>127</td>\n",
       "      <td>68</td>\n",
       "      <td>287</td>\n",
       "      <td>1438</td>\n",
       "    </tr>\n",
       "  </tbody>\n",
       "</table>\n",
       "</div>"
      ],
      "text/plain": [
       "       group  year  month  hhs_region    state               place_of_death  \\\n",
       "0   By Month  2020      1           4  Alabama  Total - All Places of Death   \n",
       "1   By Month  2020      1           4  Alabama  Total - All Places of Death   \n",
       "2   By Month  2020      1           4  Alabama  Total - All Places of Death   \n",
       "3   By Month  2020      2           4  Alabama  Total - All Places of Death   \n",
       "4   By Month  2020      2           4  Alabama  Total - All Places of Death   \n",
       "5   By Month  2020      2           4  Alabama  Total - All Places of Death   \n",
       "6   By Month  2020      3           4  Alabama  Total - All Places of Death   \n",
       "7   By Month  2020      3           4  Alabama  Total - All Places of Death   \n",
       "8   By Month  2020      3           4  Alabama  Total - All Places of Death   \n",
       "9   By Month  2020      4           4  Alabama  Total - All Places of Death   \n",
       "10  By Month  2020      4           4  Alabama  Total - All Places of Death   \n",
       "11  By Month  2020      4           4  Alabama  Total - All Places of Death   \n",
       "12  By Month  2020      5           4  Alabama  Total - All Places of Death   \n",
       "13  By Month  2020      5           4  Alabama  Total - All Places of Death   \n",
       "14  By Month  2020      5           4  Alabama  Total - All Places of Death   \n",
       "15  By Month  2020      6           4  Alabama  Total - All Places of Death   \n",
       "16  By Month  2020      6           4  Alabama  Total - All Places of Death   \n",
       "17  By Month  2020      6           4  Alabama  Total - All Places of Death   \n",
       "18  By Month  2020      7           4  Alabama  Total - All Places of Death   \n",
       "19  By Month  2020      7           4  Alabama  Total - All Places of Death   \n",
       "\n",
       "            age_group  deaths_c19  deaths_flu  deaths_pna  deaths_c19_and_pna  \\\n",
       "0         65-74 years           0          11          64                   0   \n",
       "1         75-84 years           0           5          86                   0   \n",
       "2   85 years and over           0           5          64                   0   \n",
       "3         65-74 years           0          12          60                   0   \n",
       "4         75-84 years           0           5          76                   0   \n",
       "5   85 years and over           5           5          61                   0   \n",
       "6         65-74 years          14           5          62                   5   \n",
       "7         75-84 years           5           5          87                   5   \n",
       "8   85 years and over          10           5          58                   5   \n",
       "9         65-74 years          87           5          81                  29   \n",
       "10        75-84 years          92           5         113                  31   \n",
       "11  85 years and over          80           0          83                  21   \n",
       "12        65-74 years         100           5          99                  30   \n",
       "13        75-84 years         109           5         102                  39   \n",
       "14  85 years and over         129           5          98                  41   \n",
       "15        65-74 years         108           5          87                  35   \n",
       "16        75-84 years         105           0         101                  34   \n",
       "17  85 years and over          78           0          72                  25   \n",
       "18        65-74 years         211           0         140                  73   \n",
       "19        75-84 years         227           5         127                  68   \n",
       "\n",
       "    deaths_c19_pna_or_flu  deaths_total  \n",
       "0                      75          1034  \n",
       "1                      91          1178  \n",
       "2                      65          1177  \n",
       "3                      72           968  \n",
       "4                      79          1159  \n",
       "5                      63          1114  \n",
       "6                      81          1051  \n",
       "7                      98          1165  \n",
       "8                      70          1151  \n",
       "9                     144          1061  \n",
       "10                    175          1224  \n",
       "11                    142          1171  \n",
       "12                    169          1083  \n",
       "13                    173          1243  \n",
       "14                    187          1209  \n",
       "15                    161          1040  \n",
       "16                    172          1218  \n",
       "17                    125          1133  \n",
       "18                    278          1265  \n",
       "19                    287          1438  "
      ]
     },
     "execution_count": 19,
     "metadata": {},
     "output_type": "execute_result"
    }
   ],
   "source": [
    "covid.head(20)"
   ]
  },
  {
   "cell_type": "code",
   "execution_count": 20,
   "id": "cc704f66",
   "metadata": {},
   "outputs": [
    {
     "data": {
      "text/plain": [
       "(6360, 13)"
      ]
     },
     "execution_count": 20,
     "metadata": {},
     "output_type": "execute_result"
    }
   ],
   "source": [
    "covid.shape"
   ]
  },
  {
   "cell_type": "code",
   "execution_count": null,
   "id": "abc83316",
   "metadata": {},
   "outputs": [],
   "source": [
    "# No need to rename columns"
   ]
  },
  {
   "cell_type": "code",
   "execution_count": 21,
   "id": "994dd65e",
   "metadata": {},
   "outputs": [
    {
     "data": {
      "text/plain": [
       "group                    0\n",
       "year                     0\n",
       "month                    0\n",
       "hhs_region               0\n",
       "state                    0\n",
       "place_of_death           0\n",
       "age_group                0\n",
       "deaths_c19               0\n",
       "deaths_flu               0\n",
       "deaths_pna               0\n",
       "deaths_c19_and_pna       0\n",
       "deaths_c19_pna_or_flu    0\n",
       "deaths_total             0\n",
       "dtype: int64"
      ]
     },
     "execution_count": 21,
     "metadata": {},
     "output_type": "execute_result"
    }
   ],
   "source": [
    "covid.isnull().sum()"
   ]
  },
  {
   "cell_type": "code",
   "execution_count": null,
   "id": "9393bb38",
   "metadata": {},
   "outputs": [],
   "source": [
    "# No missing values"
   ]
  },
  {
   "cell_type": "code",
   "execution_count": 22,
   "id": "eb38d53e",
   "metadata": {},
   "outputs": [],
   "source": [
    "dups = covid.duplicated()"
   ]
  },
  {
   "cell_type": "code",
   "execution_count": 23,
   "id": "4c6aabd2",
   "metadata": {},
   "outputs": [
    {
     "data": {
      "text/plain": [
       "(6360,)"
      ]
     },
     "execution_count": 23,
     "metadata": {},
     "output_type": "execute_result"
    }
   ],
   "source": [
    "dups.shape"
   ]
  },
  {
   "cell_type": "code",
   "execution_count": null,
   "id": "2279bb16",
   "metadata": {},
   "outputs": [],
   "source": [
    "# No duplicates"
   ]
  },
  {
   "cell_type": "code",
   "execution_count": null,
   "id": "a9ce9141",
   "metadata": {},
   "outputs": [],
   "source": [
    "# Extreme Value Checks"
   ]
  },
  {
   "cell_type": "code",
   "execution_count": 26,
   "id": "3ef37134",
   "metadata": {},
   "outputs": [
    {
     "name": "stderr",
     "output_type": "stream",
     "text": [
      "/Users/samantha/opt/anaconda3/lib/python3.9/site-packages/seaborn/distributions.py:2619: FutureWarning: `distplot` is a deprecated function and will be removed in a future version. Please adapt your code to use either `displot` (a figure-level function with similar flexibility) or `histplot` (an axes-level function for histograms).\n",
      "  warnings.warn(msg, FutureWarning)\n"
     ]
    },
    {
     "data": {
      "text/plain": [
       "<AxesSubplot:xlabel='deaths_c19', ylabel='Density'>"
      ]
     },
     "execution_count": 26,
     "metadata": {},
     "output_type": "execute_result"
    },
    {
     "data": {
      "image/png": "[encoded data removed]",
      "text/plain": [
       "<Figure size 640x480 with 1 Axes>"
      ]
     },
     "metadata": {},
     "output_type": "display_data"
    }
   ],
   "source": [
    "sns.distplot(covid['deaths_c19'], bins=50)\n",
    "# Shows extreme values"
   ]
  },
  {
   "cell_type": "code",
   "execution_count": 25,
   "id": "f6997ff3",
   "metadata": {},
   "outputs": [
    {
     "data": {
      "text/plain": [
       "134.93333333333334"
      ]
     },
     "execution_count": 25,
     "metadata": {},
     "output_type": "execute_result"
    }
   ],
   "source": [
    "covid['deaths_c19'].mean() # Check the mean"
   ]
  },
  {
   "cell_type": "code",
   "execution_count": 27,
   "id": "541f0b9e",
   "metadata": {},
   "outputs": [
    {
     "data": {
      "text/plain": [
       "49.0"
      ]
     },
     "execution_count": 27,
     "metadata": {},
     "output_type": "execute_result"
    }
   ],
   "source": [
    "covid['deaths_c19'].median() # Check the median"
   ]
  },
  {
   "cell_type": "code",
   "execution_count": 28,
   "id": "3b09e733",
   "metadata": {},
   "outputs": [
    {
     "data": {
      "text/plain": [
       "5094"
      ]
     },
     "execution_count": 28,
     "metadata": {},
     "output_type": "execute_result"
    }
   ],
   "source": [
    "covid['deaths_c19'].max() # Check the max"
   ]
  },
  {
   "cell_type": "markdown",
   "id": "f421b57e",
   "metadata": {},
   "source": [
    "# 6.4.5 State your hypothesis in a markdown cell within your Jupyter notebook."
   ]
  },
  {
   "cell_type": "markdown",
   "id": "3f220c6d",
   "metadata": {},
   "source": [
    "### Hypothesis: For persons over the age of 65, deaths from COVID-19, pneumonia deaths will be increased. "
   ]
  },
  {
   "cell_type": "markdown",
   "id": "abe34d4b",
   "metadata": {},
   "source": [
    "# 6.4.4 Explore your data visually (e.g., by way of a scatterplot), looking for variables whose relationship you’d like to test."
   ]
  },
  {
   "cell_type": "code",
   "execution_count": 30,
   "id": "48097e2c",
   "metadata": {},
   "outputs": [
    {
     "data": {
      "image/png": "[encoded data removed]",
      "text/plain": [
       "<Figure size 640x480 with 1 Axes>"
      ]
     },
     "metadata": {},
     "output_type": "display_data"
    }
   ],
   "source": [
    "# Create a scatterplot using matplotlib for another look at how the chosen variables plot against each other.\n",
    "\n",
    "covid.plot(x = 'deaths_pna', y='deaths_c19',style='o') \n",
    "plt.title('PNA Deaths vs COVID Deaths')  \n",
    "plt.xlabel('PNA Deaths')  \n",
    "plt.ylabel('COVID Deaths')  \n",
    "plt.show()"
   ]
  },
  {
   "cell_type": "markdown",
   "id": "3571b4ed",
   "metadata": {},
   "source": [
    "# 6.4.6 Reshape the variables into NumPy arrays, with X being the independent variable and y being the dependent variable."
   ]
  },
  {
   "cell_type": "code",
   "execution_count": 31,
   "id": "3fd3a12c",
   "metadata": {},
   "outputs": [],
   "source": [
    "# Reshape the variables into NumPy arrays and put them into separate objects.\n",
    "\n",
    "X = covid['deaths_pna'].values.reshape(-1,1)\n",
    "y = covid['deaths_c19'].values.reshape(-1,1)"
   ]
  },
  {
   "cell_type": "code",
   "execution_count": 32,
   "id": "7cc7959a",
   "metadata": {},
   "outputs": [
    {
     "data": {
      "text/plain": [
       "array([[ 64],\n",
       "       [ 86],\n",
       "       [ 64],\n",
       "       ...,\n",
       "       [ 44],\n",
       "       [103],\n",
       "       [ 96]])"
      ]
     },
     "execution_count": 32,
     "metadata": {},
     "output_type": "execute_result"
    }
   ],
   "source": [
    "X"
   ]
  },
  {
   "cell_type": "code",
   "execution_count": 33,
   "id": "c4b7ec76",
   "metadata": {},
   "outputs": [
    {
     "data": {
      "text/plain": [
       "array([[ 0],\n",
       "       [ 0],\n",
       "       [ 0],\n",
       "       ...,\n",
       "       [ 5],\n",
       "       [ 5],\n",
       "       [13]])"
      ]
     },
     "execution_count": 33,
     "metadata": {},
     "output_type": "execute_result"
    }
   ],
   "source": [
    "y"
   ]
  },
  {
   "cell_type": "markdown",
   "id": "74201336",
   "metadata": {},
   "source": [
    "# 6.4.7 Split the data into two sets: a training set and a test set."
   ]
  },
  {
   "cell_type": "code",
   "execution_count": 34,
   "id": "7b478d0c",
   "metadata": {},
   "outputs": [],
   "source": [
    "# Split data into a training set and a test set.\n",
    "\n",
    "X_train, X_test, y_train, y_test = train_test_split(X, y, test_size=0.3, random_state=0)"
   ]
  },
  {
   "cell_type": "markdown",
   "id": "ea33c668",
   "metadata": {},
   "source": [
    "# 6.4.8 Run a linear regression on the data."
   ]
  },
  {
   "cell_type": "code",
   "execution_count": 35,
   "id": "1c0d00c8",
   "metadata": {},
   "outputs": [],
   "source": [
    "# Create a regression object.\n",
    "\n",
    "regression = LinearRegression()  # This is the regression object, which will be fit onto the training set."
   ]
  },
  {
   "cell_type": "markdown",
   "id": "88c6717d",
   "metadata": {},
   "source": [
    "### 6.4.8a First, fit the model you created to the training set."
   ]
  },
  {
   "cell_type": "code",
   "execution_count": 36,
   "id": "14e92e91",
   "metadata": {},
   "outputs": [
    {
     "data": {
      "text/plain": [
       "LinearRegression()"
      ]
     },
     "execution_count": 36,
     "metadata": {},
     "output_type": "execute_result"
    }
   ],
   "source": [
    "regression.fit(X_train, y_train)"
   ]
  },
  {
   "cell_type": "markdown",
   "id": "6d5930a7",
   "metadata": {},
   "source": [
    "### 6.4.8b Then, create a prediction for y on the test set."
   ]
  },
  {
   "cell_type": "code",
   "execution_count": 37,
   "id": "17935362",
   "metadata": {},
   "outputs": [],
   "source": [
    "# Predict the values of y using X.\n",
    "\n",
    "y_predicted = regression.predict(X_test)"
   ]
  },
  {
   "cell_type": "markdown",
   "id": "899b2b53",
   "metadata": {},
   "source": [
    "# 6.4.9 Create a plot that shows the regression line on the test set."
   ]
  },
  {
   "cell_type": "code",
   "execution_count": 38,
   "id": "a126eec3",
   "metadata": {},
   "outputs": [
    {
     "data": {
      "image/png": "[encoded data removed]",
      "text/plain": [
       "<Figure size 640x480 with 1 Axes>"
      ]
     },
     "metadata": {},
     "output_type": "display_data"
    }
   ],
   "source": [
    "plot_test = plt\n",
    "plot_test.scatter(X_test, y_test, color='gray', s = 15)\n",
    "plot_test.plot(X_test, y_predicted, color='red', linewidth =3)\n",
    "plot_test.title('PNA Deaths vs COVID Deaths (Test set)')\n",
    "plot_test.xlabel('PNA Deaths')\n",
    "plot_test.ylabel('COVID Deaths')\n",
    "plot_test.show()"
   ]
  },
  {
   "cell_type": "markdown",
   "id": "73036377",
   "metadata": {},
   "source": [
    "# 6.4.10 Write your own interpretation of how well the line appears to fit the data in a markdown cell.\n",
    "The regression line appeares to fit the data well. Most of the data points are very close to the regression line with the exception of 2 outliers. "
   ]
  },
  {
   "cell_type": "markdown",
   "id": "b5514650",
   "metadata": {},
   "source": [
    "# 6.4.11 Check the model performance statistics—MSE and R2 score."
   ]
  },
  {
   "cell_type": "code",
   "execution_count": 39,
   "id": "d08cebb6",
   "metadata": {},
   "outputs": [],
   "source": [
    "# Create objects that contain the model summary statistics.\n",
    "\n",
    "rmse = mean_squared_error(y_test, y_predicted) # This is the mean squared error\n",
    "r2 = r2_score(y_test, y_predicted) # This is the R2 score. "
   ]
  },
  {
   "cell_type": "code",
   "execution_count": 40,
   "id": "4cc474a1",
   "metadata": {},
   "outputs": [
    {
     "name": "stdout",
     "output_type": "stream",
     "text": [
      "Slope: [[1.29572359]]\n",
      "Mean squared error:  10892.419508351417\n",
      "R2 score:  0.8796844669667697\n"
     ]
    }
   ],
   "source": [
    "# Print the model summary statistics. This is where you evaluate the performance of the model.\n",
    "\n",
    "print('Slope:' ,regression.coef_)\n",
    "print('Mean squared error: ', rmse)\n",
    "print('R2 score: ', r2)"
   ]
  },
  {
   "cell_type": "markdown",
   "id": "eac4baaa",
   "metadata": {},
   "source": [
    "# 6.4.12 Compare the predicted y values with the actual y values in a dataframe."
   ]
  },
  {
   "cell_type": "code",
   "execution_count": 41,
   "id": "e8649183",
   "metadata": {},
   "outputs": [
    {
     "data": {
      "text/html": [
       "<div>\n",
       "<style scoped>\n",
       "    .dataframe tbody tr th:only-of-type {\n",
       "        vertical-align: middle;\n",
       "    }\n",
       "\n",
       "    .dataframe tbody tr th {\n",
       "        vertical-align: top;\n",
       "    }\n",
       "\n",
       "    .dataframe thead th {\n",
       "        text-align: right;\n",
       "    }\n",
       "</style>\n",
       "<table border=\"1\" class=\"dataframe\">\n",
       "  <thead>\n",
       "    <tr style=\"text-align: right;\">\n",
       "      <th></th>\n",
       "      <th>Actual</th>\n",
       "      <th>Predicted</th>\n",
       "    </tr>\n",
       "  </thead>\n",
       "  <tbody>\n",
       "    <tr>\n",
       "      <th>0</th>\n",
       "      <td>40</td>\n",
       "      <td>52.121416</td>\n",
       "    </tr>\n",
       "    <tr>\n",
       "      <th>1</th>\n",
       "      <td>141</td>\n",
       "      <td>203.721076</td>\n",
       "    </tr>\n",
       "    <tr>\n",
       "      <th>2</th>\n",
       "      <td>302</td>\n",
       "      <td>335.884882</td>\n",
       "    </tr>\n",
       "    <tr>\n",
       "      <th>3</th>\n",
       "      <td>141</td>\n",
       "      <td>201.129629</td>\n",
       "    </tr>\n",
       "    <tr>\n",
       "      <th>4</th>\n",
       "      <td>22</td>\n",
       "      <td>0.292472</td>\n",
       "    </tr>\n",
       "    <tr>\n",
       "      <th>5</th>\n",
       "      <td>5</td>\n",
       "      <td>-32.100617</td>\n",
       "    </tr>\n",
       "    <tr>\n",
       "      <th>6</th>\n",
       "      <td>81</td>\n",
       "      <td>54.712863</td>\n",
       "    </tr>\n",
       "    <tr>\n",
       "      <th>7</th>\n",
       "      <td>29</td>\n",
       "      <td>346.250671</td>\n",
       "    </tr>\n",
       "    <tr>\n",
       "      <th>8</th>\n",
       "      <td>2025</td>\n",
       "      <td>2026.804168</td>\n",
       "    </tr>\n",
       "    <tr>\n",
       "      <th>9</th>\n",
       "      <td>34</td>\n",
       "      <td>0.292472</td>\n",
       "    </tr>\n",
       "    <tr>\n",
       "      <th>10</th>\n",
       "      <td>186</td>\n",
       "      <td>319.040476</td>\n",
       "    </tr>\n",
       "    <tr>\n",
       "      <th>11</th>\n",
       "      <td>71</td>\n",
       "      <td>48.234245</td>\n",
       "    </tr>\n",
       "    <tr>\n",
       "      <th>12</th>\n",
       "      <td>13</td>\n",
       "      <td>45.642798</td>\n",
       "    </tr>\n",
       "    <tr>\n",
       "      <th>13</th>\n",
       "      <td>12</td>\n",
       "      <td>-19.143382</td>\n",
       "    </tr>\n",
       "    <tr>\n",
       "      <th>14</th>\n",
       "      <td>44</td>\n",
       "      <td>50.825692</td>\n",
       "    </tr>\n",
       "    <tr>\n",
       "      <th>15</th>\n",
       "      <td>0</td>\n",
       "      <td>1.588196</td>\n",
       "    </tr>\n",
       "    <tr>\n",
       "      <th>16</th>\n",
       "      <td>95</td>\n",
       "      <td>72.852993</td>\n",
       "    </tr>\n",
       "    <tr>\n",
       "      <th>17</th>\n",
       "      <td>561</td>\n",
       "      <td>335.884882</td>\n",
       "    </tr>\n",
       "    <tr>\n",
       "      <th>18</th>\n",
       "      <td>34</td>\n",
       "      <td>53.417140</td>\n",
       "    </tr>\n",
       "    <tr>\n",
       "      <th>19</th>\n",
       "      <td>10</td>\n",
       "      <td>14.545432</td>\n",
       "    </tr>\n",
       "    <tr>\n",
       "      <th>20</th>\n",
       "      <td>483</td>\n",
       "      <td>378.643761</td>\n",
       "    </tr>\n",
       "    <tr>\n",
       "      <th>21</th>\n",
       "      <td>1203</td>\n",
       "      <td>1070.560158</td>\n",
       "    </tr>\n",
       "    <tr>\n",
       "      <th>22</th>\n",
       "      <td>36</td>\n",
       "      <td>102.654636</td>\n",
       "    </tr>\n",
       "    <tr>\n",
       "      <th>23</th>\n",
       "      <td>37</td>\n",
       "      <td>32.685562</td>\n",
       "    </tr>\n",
       "    <tr>\n",
       "      <th>24</th>\n",
       "      <td>5</td>\n",
       "      <td>-17.847658</td>\n",
       "    </tr>\n",
       "    <tr>\n",
       "      <th>25</th>\n",
       "      <td>75</td>\n",
       "      <td>125.977661</td>\n",
       "    </tr>\n",
       "    <tr>\n",
       "      <th>26</th>\n",
       "      <td>530</td>\n",
       "      <td>547.087827</td>\n",
       "    </tr>\n",
       "    <tr>\n",
       "      <th>27</th>\n",
       "      <td>0</td>\n",
       "      <td>61.191481</td>\n",
       "    </tr>\n",
       "    <tr>\n",
       "      <th>28</th>\n",
       "      <td>73</td>\n",
       "      <td>27.502668</td>\n",
       "    </tr>\n",
       "    <tr>\n",
       "      <th>29</th>\n",
       "      <td>135</td>\n",
       "      <td>363.095078</td>\n",
       "    </tr>\n",
       "  </tbody>\n",
       "</table>\n",
       "</div>"
      ],
      "text/plain": [
       "    Actual    Predicted\n",
       "0       40    52.121416\n",
       "1      141   203.721076\n",
       "2      302   335.884882\n",
       "3      141   201.129629\n",
       "4       22     0.292472\n",
       "5        5   -32.100617\n",
       "6       81    54.712863\n",
       "7       29   346.250671\n",
       "8     2025  2026.804168\n",
       "9       34     0.292472\n",
       "10     186   319.040476\n",
       "11      71    48.234245\n",
       "12      13    45.642798\n",
       "13      12   -19.143382\n",
       "14      44    50.825692\n",
       "15       0     1.588196\n",
       "16      95    72.852993\n",
       "17     561   335.884882\n",
       "18      34    53.417140\n",
       "19      10    14.545432\n",
       "20     483   378.643761\n",
       "21    1203  1070.560158\n",
       "22      36   102.654636\n",
       "23      37    32.685562\n",
       "24       5   -17.847658\n",
       "25      75   125.977661\n",
       "26     530   547.087827\n",
       "27       0    61.191481\n",
       "28      73    27.502668\n",
       "29     135   363.095078"
      ]
     },
     "execution_count": 41,
     "metadata": {},
     "output_type": "execute_result"
    }
   ],
   "source": [
    "data = pd.DataFrame({'Actual': y_test.flatten(), 'Predicted': y_predicted.flatten()})\n",
    "data.head(30)"
   ]
  },
  {
   "cell_type": "code",
   "execution_count": null,
   "id": "b7703be4",
   "metadata": {},
   "outputs": [],
   "source": [
    "# Compare how the regression fits the training set"
   ]
  },
  {
   "cell_type": "code",
   "execution_count": 42,
   "id": "30bab08d",
   "metadata": {},
   "outputs": [],
   "source": [
    "# Predict.\n",
    "\n",
    "y_predicted_train = regression.predict(X_train)"
   ]
  },
  {
   "cell_type": "code",
   "execution_count": 43,
   "id": "8db1bbad",
   "metadata": {},
   "outputs": [],
   "source": [
    "rmse = mean_squared_error(y_train, y_predicted_train)\n",
    "r2 = r2_score(y_train, y_predicted_train)"
   ]
  },
  {
   "cell_type": "code",
   "execution_count": 44,
   "id": "f68e7797",
   "metadata": {},
   "outputs": [
    {
     "name": "stdout",
     "output_type": "stream",
     "text": [
      "Slope: [[1.29572359]]\n",
      "Mean squared error:  10841.512018657591\n",
      "R2 score:  0.8573156295345908\n"
     ]
    }
   ],
   "source": [
    "print('Slope:' ,regression.coef_)\n",
    "print('Mean squared error: ', rmse)\n",
    "print('R2 score: ', r2)"
   ]
  },
  {
   "cell_type": "code",
   "execution_count": 45,
   "id": "e79e60c9",
   "metadata": {},
   "outputs": [
    {
     "data": {
      "image/png": "[encoded data removed]",
      "text/plain": [
       "<Figure size 640x480 with 1 Axes>"
      ]
     },
     "metadata": {},
     "output_type": "display_data"
    }
   ],
   "source": [
    "# Visualizing the training set results.\n",
    "\n",
    "plot_test = plt\n",
    "plot_test.scatter(X_train, y_train, color='green', s = 15)\n",
    "plot_test.plot(X_train, y_predicted_train, color='red', linewidth =3)\n",
    "plot_test.title('PNA Deaths vs COVID Deaths (Train set)')\n",
    "plot_test.xlabel('PNA Deaths')\n",
    "plot_test.ylabel('COVID Deaths')\n",
    "plot_test.show()"
   ]
  },
  {
   "cell_type": "markdown",
   "id": "c2e3884c",
   "metadata": {},
   "source": [
    "# 6.4.13 Include your thoughts on how well the model performed on the test set in a markdown cell. Include any reflections you have on the impact of possible data bias.\n",
    "I think the overall, the model's performance was mediocre. The slope indicates that there is a positive relationship. That is, as PNA deaths rise, COVID deaths also rise. However, the MSE appears to be quite high, which could mean there is some considerable distance from the regression line, which could mean it is not a good fit. The R2 of 0.8573 is fairly close to 1, which indicates that the regression line is a good fit. Since this data is regarding PNA Deaths vs COVID Deaths, might not accurately reflect deaths in marginalized communities, though socioeconomic status and race/ethnicity are not included in the data. "
   ]
  },
  {
   "cell_type": "markdown",
   "id": "e5ba0066",
   "metadata": {},
   "source": []
  }
 ],
 "metadata": {
  "kernelspec": {
   "display_name": "Python 3 (ipykernel)",
   "language": "python",
   "name": "python3"
  },
  "language_info": {
   "codemirror_mode": {
    "name": "ipython",
    "version": 3
   },
   "file_extension": ".py",
   "mimetype": "text/x-python",
   "name": "python",
   "nbconvert_exporter": "python",
   "pygments_lexer": "ipython3",
   "version": "3.9.13"
  }
 },
 "nbformat": 4,
 "nbformat_minor": 5
}
